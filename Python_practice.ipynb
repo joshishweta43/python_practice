{
 "cells": [
  {
   "cell_type": "markdown",
   "metadata": {},
   "source": [
    "With the help of composition concept,create class usinge below specifications,\n",
    "'Phillips', 'Usha','Kohler','Granite Sink', 2.0,'Prestige', 2.0,'Sony'\n",
    "\n",
    "so that, my final output should look like as below,\n",
    "\n",
    "\n",
    "My Home should have below features : \n",
    "\n",
    "Bedroom: \n",
    " \tLights brand: Phillips\n",
    " \tFan brand: Usha\n",
    " \tHow many bedrooms: 2.0\n",
    "    \n",
    "Kitchen: \n",
    " \tBurner Company: Prestige\n",
    "    How many sinks:2.0\n",
    "   \n",
    "Hall:\n",
    " \tTV brand: Sony\n",
    "    \n",
    "Bathroom: \n",
    " \tShower brand: Kohler\n",
    " \tSink Type:Granite Sink"
   ]
  },
  {
   "cell_type": "code",
   "execution_count": 46,
   "metadata": {
    "scrolled": false
   },
   "outputs": [
    {
     "name": "stdout",
     "output_type": "stream",
     "text": [
      "My Home should have below features :\n",
      "Bedrooms:\n",
      "Light_brands: phillips\n",
      "Fan_brand: usha\n",
      "How_many_bedrooms: 2.0\n",
      "\n",
      "kitchen:\n",
      "Burner_company: prestige\n",
      "How_many_sinks: 2.0\n",
      "\n",
      "Hall:\n",
      "TV_brand: sony\n",
      "\n",
      "Bathroom:\n",
      "Shower_brand: kohler \n",
      "Sink_type: Granite Sink\n"
     ]
    }
   ],
   "source": [
    "print(\"My Home should have below features :\")\n",
    "print(\"Bedrooms:\")\n",
    "class bedroom:\n",
    "    def __init__(self,Lights_brand,Fan_brand,How_many_bedrooms):\n",
    "        self.Lights_brand = Lights_brand\n",
    "        self.Fan_brand = Fan_brand\n",
    "        self.How_many_bedrooms = How_many_bedrooms\n",
    "        \n",
    "    def __str__(self):\n",
    "        \n",
    "        return\"Light_brands: %s\\nFan_brand: %s\\nHow_many_bedrooms: %s\" %(self.Lights_brand, self.Fan_brand, self.How_many_bedrooms)\n",
    "    \n",
    "bedroom = bedroom(\"phillips\", \"usha\",\"2.0\")\n",
    "print(bedroom)\n",
    "\n",
    "print(\"\\nkitchen:\")\n",
    "class kitchen:\n",
    "    def __init__(self,Burner_company,How_many_sinks):\n",
    "        self.Burner_company = Burner_company\n",
    "        self.How_many_sinks = How_many_sinks\n",
    "        \n",
    "    def __str__(self):\n",
    "        return\"Burner_company: %s\\nHow_many_sinks: %s\" %(self.Burner_company,self.How_many_sinks)\n",
    "kitchen = kitchen(\"prestige\",\"2.0\")\n",
    "print(kitchen)\n",
    "\n",
    "print(\"\\nHall:\")\n",
    "class Hall:\n",
    "    def __init__(self,TV_brand):\n",
    "        self.TV_brand= TV_brand\n",
    "        \n",
    "    def __str__(self):\n",
    "        return\"TV_brand: %s\" %(self.TV_brand)\n",
    "Hall = Hall(\"sony\")\n",
    "print(Hall)\n",
    "\n",
    "print(\"\\nBathroom:\")\n",
    "class Bathroom:\n",
    "    def __init__(self,Shower_brand,Sink_type):\n",
    "        self.Shower_brand = Shower_brand\n",
    "        self.Sink_type = Sink_type\n",
    "        \n",
    "    def __str__(self):\n",
    "        return\"Shower_brand: %s \\nSink_type: %s\" %(self.Shower_brand,self.Sink_type)\n",
    "\n",
    "Bathroom = Bathroom(\"kohler\",\"Granite Sink\")\n",
    "print(Bathroom)"
   ]
  },
  {
   "cell_type": "code",
   "execution_count": null,
   "metadata": {},
   "outputs": [],
   "source": []
  }
 ],
 "metadata": {
  "kernelspec": {
   "display_name": "Python 3",
   "language": "python",
   "name": "python3"
  },
  "language_info": {
   "codemirror_mode": {
    "name": "ipython",
    "version": 3
   },
   "file_extension": ".py",
   "mimetype": "text/x-python",
   "name": "python",
   "nbconvert_exporter": "python",
   "pygments_lexer": "ipython3",
   "version": "3.7.6"
  }
 },
 "nbformat": 4,
 "nbformat_minor": 4
}
